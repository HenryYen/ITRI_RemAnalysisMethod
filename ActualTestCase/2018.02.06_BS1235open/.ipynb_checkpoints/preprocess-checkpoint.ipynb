{
 "cells": [
  {
   "cell_type": "code",
   "execution_count": 21,
   "metadata": {},
   "outputs": [
    {
     "name": "stdout",
     "output_type": "stream",
     "text": [
      "[[88.58 16.57]\n",
      " [81.26 18.69]\n",
      " [86.19 11.85]\n",
      " [90.17 8.82]\n",
      " [82.85 3.34]\n",
      " [77.76 3.34]\n",
      " [74.26 4.56]\n",
      " [70.77 4.26]\n",
      " [62.34 1.37]\n",
      " [62.97 4.41]\n",
      " [63.61 11.85]\n",
      " [59.47 19.91]\n",
      " [69.33 21.73]\n",
      " [72.51 15.2]\n",
      " [80.47 22.65]\n",
      " [97.0 15.35]\n",
      " [61.06 8.82]\n",
      " [66.31 3.5]\n",
      " [71.08 8.36]\n",
      " [77.76 1.22]\n",
      " [52.16 11.85]\n",
      " [27.51 11.85]\n",
      " [27.51 4.1]\n",
      " [20.51 8.66]\n",
      " [11.61 11.85]\n",
      " [19.4 19.45]\n",
      " [12.56 19.45]\n",
      " [29.26 20.97]\n",
      " [45.48 22.65]\n",
      " [41.19 22.65]\n",
      " [31.65 5.78]\n",
      " [23.54 7.9]\n",
      " [10.97 4.1]\n",
      " [14.15 9.12]]\n"
     ]
    }
   ],
   "source": [
    "import pandas as pd\n",
    "import numpy as np\n",
    "from math import sqrt\n",
    "\n",
    "def get_dist(x1, y1, x2, y2):\n",
    "    return sqrt((x1-x2)**2 + (y1-y2)**2)\n",
    "\n",
    "pos_bs = [[24.377, 11.978], [51.446, 17.966], [69.175, 11.247], [82.947, 18.112]]   #BS 1,2,3,5        \n",
    "\n",
    "#nb_data = 306\n",
    "df = pd.read_csv('./data/test_0.1.csv').values\n",
    "data = df[:, 2:4]\n",
    "print data\n",
    "\n"
   ]
  },
  {
   "cell_type": "code",
   "execution_count": 22,
   "metadata": {},
   "outputs": [
    {
     "name": "stdout",
     "output_type": "stream",
     "text": [
      "5.84024425859\n",
      "1.78327031041\n",
      "7.05192831784\n",
      "11.7691543027\n",
      "14.7723184707\n",
      "11.6714555219\n",
      "8.40078532043\n",
      "7.16674221666\n",
      "12.0113427226\n",
      "9.23290820923\n",
      "5.59757393877\n",
      "8.25613178189\n",
      "10.4841458403\n",
      "5.17188882324\n",
      "5.17000705996\n",
      "14.3218522894\n",
      "8.47015666915\n",
      "8.25979624446\n",
      "3.45887178138\n",
      "13.2001118935\n",
      "6.15753619559\n",
      "3.13561365605\n",
      "8.47812320033\n",
      "5.09537172344\n",
      "12.7676416381\n",
      "8.97782339991\n",
      "13.9811399035\n",
      "10.2322897242\n",
      "7.58505187853\n",
      "11.2749896674\n",
      "9.55571729385\n",
      "4.16301008887\n",
      "15.5502582937\n",
      "10.6188367065\n"
     ]
    }
   ],
   "source": [
    "for u in data:\n",
    "    close_bs = sorted(pos_bs, key=lambda c: get_dist(u[0], u[1], c[0], c[1]))\n",
    "    serve = close_bs[0]\n",
    "    print get_dist(serve[0], serve[1], u[0], u[1])\n",
    "    "
   ]
  },
  {
   "cell_type": "code",
   "execution_count": null,
   "metadata": {},
   "outputs": [],
   "source": []
  },
  {
   "cell_type": "code",
   "execution_count": null,
   "metadata": {},
   "outputs": [],
   "source": [
    "\n"
   ]
  }
 ],
 "metadata": {
  "kernelspec": {
   "display_name": "Python 2",
   "language": "python",
   "name": "python2"
  },
  "language_info": {
   "codemirror_mode": {
    "name": "ipython",
    "version": 2
   },
   "file_extension": ".py",
   "mimetype": "text/x-python",
   "name": "python",
   "nbconvert_exporter": "python",
   "pygments_lexer": "ipython2",
   "version": "2.7.12"
  }
 },
 "nbformat": 4,
 "nbformat_minor": 2
}
