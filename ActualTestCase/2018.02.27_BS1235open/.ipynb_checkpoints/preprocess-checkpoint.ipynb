{
 "cells": [
  {
   "cell_type": "code",
   "execution_count": 2,
   "metadata": {},
   "outputs": [
    {
     "name": "stdout",
     "output_type": "stream",
     "text": [
      "[[93.35 11.85]\n",
      " [91.12 11.85]\n",
      " [88.58 11.85]\n",
      " [88.58 14.74]\n",
      " [88.58 16.57]\n",
      " [91.12 15.96]\n",
      " [90.96 14.59]\n",
      " [88.58 17.93]\n",
      " [86.35 17.93]\n",
      " [86.35 15.65]]\n"
     ]
    }
   ],
   "source": [
    "import pandas as pd\n",
    "import numpy as np\n",
    "from math import sqrt\n",
    "\n",
    "def get_dist(x1, y1, x2, y2):\n",
    "    return sqrt((x1-x2)**2 + (y1-y2)**2)\n",
    "\n",
    "pos_bs = [[24.377, 11.978], [51.446, 17.966], [69.175, 11.247], [82.947, 18.112]]   #BS 1,2,3,5        \n",
    "\n",
    "df = pd.read_csv('./data/train.csv').values\n",
    "data = df[:, 2:4]\n",
    "print data[:10]\n",
    "\n"
   ]
  },
  {
   "cell_type": "code",
   "execution_count": 22,
   "metadata": {},
   "outputs": [
    {
     "name": "stdout",
     "output_type": "stream",
     "text": [
      "5.84024425859\n",
      "1.78327031041\n",
      "7.05192831784\n",
      "11.7691543027\n",
      "14.7723184707\n",
      "11.6714555219\n",
      "8.40078532043\n",
      "7.16674221666\n",
      "12.0113427226\n",
      "9.23290820923\n",
      "5.59757393877\n",
      "8.25613178189\n",
      "10.4841458403\n",
      "5.17188882324\n",
      "5.17000705996\n",
      "14.3218522894\n",
      "8.47015666915\n",
      "8.25979624446\n",
      "3.45887178138\n",
      "13.2001118935\n",
      "6.15753619559\n",
      "3.13561365605\n",
      "8.47812320033\n",
      "5.09537172344\n",
      "12.7676416381\n",
      "8.97782339991\n",
      "13.9811399035\n",
      "10.2322897242\n",
      "7.58505187853\n",
      "11.2749896674\n",
      "9.55571729385\n",
      "4.16301008887\n",
      "15.5502582937\n",
      "10.6188367065\n"
     ]
    }
   ],
   "source": [
    "for u in data:\n",
    "    close_bs = sorted(pos_bs, key=lambda c: get_dist(u[0], u[1], c[0], c[1]))\n",
    "    serve = close_bs[0]\n",
    "    print get_dist(serve[0], serve[1], u[0], u[1])\n",
    "    "
   ]
  },
  {
   "cell_type": "code",
   "execution_count": null,
   "metadata": {},
   "outputs": [],
   "source": []
  },
  {
   "cell_type": "code",
   "execution_count": null,
   "metadata": {},
   "outputs": [],
   "source": [
    "\n"
   ]
  }
 ],
 "metadata": {
  "kernelspec": {
   "display_name": "Python 2",
   "language": "python",
   "name": "python2"
  },
  "language_info": {
   "codemirror_mode": {
    "name": "ipython",
    "version": 2
   },
   "file_extension": ".py",
   "mimetype": "text/x-python",
   "name": "python",
   "nbconvert_exporter": "python",
   "pygments_lexer": "ipython2",
   "version": "2.7.12"
  }
 },
 "nbformat": 4,
 "nbformat_minor": 2
}
