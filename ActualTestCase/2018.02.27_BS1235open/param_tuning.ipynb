{
 "cells": [
  {
   "cell_type": "code",
   "execution_count": 1,
   "metadata": {},
   "outputs": [
    {
     "name": "stderr",
     "output_type": "stream",
     "text": [
      "Using TensorFlow backend.\n"
     ]
    },
    {
     "name": "stdout",
     "output_type": "stream",
     "text": [
      "(335, 5) (335,)\n",
      "[[27.51 11.85 24.377 11.978 19]\n",
      " [62.5 17.33 69.175 11.247 19]\n",
      " [52.79561999999999 15.04667 51.446000000000005 17.965999999999998 19]] [-87.96666667 -124.9 -86.3]\n",
      "(144, 5) (144,)\n",
      "[[27.51097 12.31091 24.377 11.978 19]\n",
      " [80.47 22.65 82.947 18.112000000000002 19]\n",
      " [31.65 4.1 24.377 11.978 19]] [-81.06666667 -79.5 -104.4]\n"
     ]
    }
   ],
   "source": [
    "import numpy as np\n",
    "import pandas as pd\n",
    "import psutil as ps\n",
    "import os\n",
    "from keras.models import Sequential, load_model\n",
    "from keras.layers import Dense, Activation\n",
    "from keras.optimizers import Adam\n",
    "from keras.wrappers.scikit_learn import KerasRegressor\n",
    "from sklearn import linear_model\n",
    "from sklearn.metrics import mean_squared_error, r2_score\n",
    "from sklearn.gaussian_process import GaussianProcessRegressor\n",
    "from sklearn.gaussian_process.kernels import RBF, WhiteKernel\n",
    "from sklearn.tree import DecisionTreeRegressor\n",
    "from sklearn.ensemble import RandomForestRegressor, GradientBoostingRegressor\n",
    "from sklearn.neighbors import KNeighborsRegressor\n",
    "from sklearn.model_selection import train_test_split, GridSearchCV\n",
    "from Utility import draw_heatmap, draw_bitmap, draw_importance_forest, cross_val_RF, cross_val_Lin, cross_val_NN\n",
    "import time\n",
    "\n",
    "nb_fold = 10\n",
    "nb_feature = 5\n",
    "df = pd.read_csv('./data/train.csv').values\n",
    "train_df, test_df = train_test_split(df, test_size=0.3)\n",
    "X_train = train_df[:, 2:2+nb_feature]\n",
    "y_train = train_df[:, -1]\n",
    "X_test = test_df[:, 2:2+nb_feature]\n",
    "y_test = test_df[:, -1]\n",
    "print X_train.shape, y_train.shape\n",
    "print X_train[:3], y_train[:3]\n",
    "print X_test.shape, y_test.shape\n",
    "print X_test[:3], y_test[:3]"
   ]
  },
  {
   "cell_type": "code",
   "execution_count": 4,
   "metadata": {},
   "outputs": [
    {
     "name": "stdout",
     "output_type": "stream",
     "text": [
      "--- Model--- 5 features\n",
      "[MSE]: 28.884\n",
      "[RMSE]: 5.374\n",
      "[R2]: 0.836\n"
     ]
    }
   ],
   "source": [
    "y_pred = searcher.predict(X_test)\n",
    "#print y_pred[:10]\n",
    "#print y_test[:10]\n",
    "print \"--- Model--- %s features\" %(nb_feature)\n",
    "print \"[MSE]: %.3f\" % mean_squared_error(y_test, y_pred)\n",
    "print \"[RMSE]: %.3f\" % (mean_squared_error(y_test, y_pred))**(0.5)\n",
    "print '[R2]: %.3f' % r2_score(y_test, y_pred)"
   ]
  },
  {
   "cell_type": "code",
   "execution_count": 46,
   "metadata": {},
   "outputs": [
    {
     "name": "stdout",
     "output_type": "stream",
     "text": [
      "0.758684702701\n",
      "{'max_depth': 30}\n"
     ]
    }
   ],
   "source": [
    "#Decision tree\n",
    "model = DecisionTreeRegressor()\n",
    "param_grid = {'max_depth': [1, 10, 20, 30, 40, 50]}\n",
    "searcher = GridSearchCV(estimator=model, param_grid=param_grid, cv=nb_fold, n_jobs=-1)    \n",
    "searcher.fit(X_train, y_train)  \n",
    "print searcher.best_score_\n",
    "print searcher.best_params_"
   ]
  },
  {
   "cell_type": "code",
   "execution_count": 118,
   "metadata": {},
   "outputs": [
    {
     "name": "stdout",
     "output_type": "stream",
     "text": [
      "0.847706700719\n",
      "{'max_features': 'auto', 'n_estimators': 50, 'max_depth': 50}\n"
     ]
    }
   ],
   "source": [
    "#Random forest\n",
    "model = RandomForestRegressor()\n",
    "param_grid = {\n",
    "    'n_estimators': [1, 50, 100],\n",
    "    'max_depth': [10, 30, 50],\n",
    "    'max_features': ['sqrt', 'auto'] \n",
    "}\n",
    "searcher = GridSearchCV(estimator=model, param_grid=param_grid, cv=nb_fold, n_jobs=-1)    \n",
    "searcher.fit(X_train, y_train)  \n",
    "print searcher.best_score_\n",
    "print searcher.best_params_"
   ]
  },
  {
   "cell_type": "code",
   "execution_count": 116,
   "metadata": {
    "scrolled": true
   },
   "outputs": [
    {
     "name": "stdout",
     "output_type": "stream",
     "text": [
      "0.842648857024\n",
      "{'n_estimators': 100, 'learning_rate': 0.1, 'max_depth': 5}\n"
     ]
    }
   ],
   "source": [
    "#Gradient Boosting\n",
    "model = GradientBoostingRegressor()\n",
    "param_grid = {\n",
    "    'n_estimators': [1, 50, 100],\n",
    "    'max_depth': [1, 2, 3],\n",
    "    'learning_rate' : [0.1, 0.01] \n",
    "}\n",
    "searcher = GridSearchCV(estimator=model, param_grid=param_grid, cv=nb_fold, n_jobs=-1)    \n",
    "searcher.fit(X_train, y_train)  \n",
    "print searcher.best_score_\n",
    "print searcher.best_params_"
   ]
  },
  {
   "cell_type": "code",
   "execution_count": 123,
   "metadata": {},
   "outputs": [
    {
     "name": "stdout",
     "output_type": "stream",
     "text": [
      "0.809960920268\n",
      "{'n_neighbors': 3}\n"
     ]
    }
   ],
   "source": [
    "# K-NN\n",
    "model = KNeighborsRegressor()\n",
    "param_grid = {'n_neighbors': [1, 3, 5, 7, 9]}\n",
    "searcher = GridSearchCV(estimator=model, param_grid=param_grid, cv=nb_fold, n_jobs=-1)    \n",
    "searcher.fit(X_train, y_train)  \n",
    "print searcher.best_score_\n",
    "print searcher.best_params_"
   ]
  },
  {
   "cell_type": "code",
   "execution_count": 18,
   "metadata": {},
   "outputs": [
    {
     "data": {
      "text/plain": [
       "LinearRegression(copy_X=True, fit_intercept=True, n_jobs=1, normalize=False)"
      ]
     },
     "execution_count": 18,
     "metadata": {},
     "output_type": "execute_result"
    }
   ],
   "source": [
    "#Linear regression\n",
    "model = linear_model.LinearRegression()\n",
    "model.fit(X_train, y_train)"
   ]
  },
  {
   "cell_type": "code",
   "execution_count": 2,
   "metadata": {},
   "outputs": [
    {
     "name": "stdout",
     "output_type": "stream",
     "text": [
      "Epoch 1/1000\n",
      "Epoch 1/1000\n",
      "301/301 [==============================] - 1s - loss: 2911.8172     \n",
      "Epoch 2/1000\n",
      "160/301 [==============>...............] - ETA: 0s - loss: 778.5338\n",
      "Epoch 2/1000\n",
      "301/301 [==============================] - 1s - loss: 743.2866     \n",
      "Epoch 3/1000\n",
      "288/301 [===========================>..] - ETA: 0s - loss: 453.9914\n",
      "Epoch 3/1000\n",
      "301/301 [==============================] - 1s - loss: 459.3306     \n",
      "Epoch 4/1000\n",
      "301/301 [==============================] - 1s - loss: 240.3165     \n",
      "Epoch 5/1000\n",
      " 64/301 [=====>........................] - ETA: 1s - loss: 174.4559\n",
      "Epoch 4/1000\n",
      "301/301 [==============================] - 1s - loss: 183.0773     \n",
      "240/301 [======================>.......] - ETA: 0s - loss: 216.3349Epoch 6/1000\n",
      "301/301 [==============================] - 1s - loss: 211.9657     \n",
      "Epoch 5/1000\n",
      "301/301 [==============================] - 1s - loss: 141.3272     \n",
      "Epoch 7/1000\n",
      "301/301 [==============================] - 1s - loss: 144.9908     \n",
      "Epoch 6/1000\n",
      "301/301 [==============================] - 1s - loss: 127.2572     \n",
      "Epoch 7/1000\n",
      "301/301 [==============================] - 2s - loss: 123.8742     \n",
      "Epoch 8/1000\n",
      "301/301 [==============================] - 1s - loss: 126.6734     \n",
      "Epoch 8/1000\n",
      "301/301 [==============================] - 1s - loss: 104.1123     \n",
      "Epoch 9/1000\n",
      "301/301 [==============================] - 1s - loss: 97.3555     \n",
      "Epoch 9/1000\n",
      "301/301 [==============================] - 1s - loss: 124.9855     \n",
      "Epoch 10/1000\n",
      "301/301 [==============================] - 1s - loss: 137.9628     \n",
      "Epoch 10/1000\n",
      "288/301 [===========================>..] - ETA: 0s - loss: 103.5805Epoch 11/1000\n",
      "301/301 [==============================] - 1s - loss: 100.0531     \n",
      "301/301 [==============================] - 1s - loss: 93.0281     \n",
      "Epoch 11/1000\n",
      "301/301 [==============================] - 1s - loss: 89.9385     \n",
      "Epoch 12/1000\n",
      "301/301 [==============================] - 1s - loss: 112.3713     \n",
      "Epoch 12/1000\n",
      "301/301 [==============================] - 1s - loss: 84.6771     \n",
      "Epoch 13/1000\n",
      "301/301 [==============================] - 1s - loss: 83.1608     \n",
      "Epoch 13/1000\n",
      "301/301 [==============================] - 1s - loss: 74.7644     \n",
      "Epoch 14/1000\n",
      "301/301 [==============================] - 1s - loss: 78.3299     \n",
      "Epoch 14/1000\n",
      "301/301 [==============================] - 1s - loss: 105.4222     \n",
      "Epoch 15/1000\n",
      "301/301 [==============================] - 1s - loss: 84.3872     \n",
      "Epoch 16/1000\n",
      "301/301 [==============================] - 1s - loss: 110.6777     \n",
      "Epoch 15/1000\n",
      "301/301 [==============================] - 2s - loss: 85.3272     \n",
      "\n",
      "Epoch 16/1000\n",
      "Epoch 17/1000\n",
      "301/301 [==============================] - 1s - loss: 67.7625     \n",
      "272/301 [==========================>...] - ETA: 0s - loss: 105.1667Epoch 17/1000\n",
      "301/301 [==============================] - 1s - loss: 101.7906     \n",
      " 32/301 [==>...........................] - ETA: 1s - loss: 94.2073 Epoch 18/1000\n",
      "301/301 [==============================] - 1s - loss: 77.4846     \n",
      "Epoch 18/1000\n",
      "301/301 [==============================] - 1s - loss: 71.6375     \n",
      " 16/301 [>.............................] - ETA: 1s - loss: 37.1689Epoch 19/1000\n",
      "301/301 [==============================] - 1s - loss: 60.7074     \n",
      "Epoch 20/1000\n",
      "301/301 [==============================] - 1s - loss: 64.8281     \n",
      "Epoch 19/1000\n",
      "301/301 [==============================] - 1s - loss: 61.8580     \n",
      "Epoch 20/1000\n",
      "301/301 [==============================] - 2s - loss: 61.2142     \n",
      " 16/301 [>.............................] - ETA: 3s - loss: 85.6823Epoch 21/1000\n",
      "301/301 [==============================] - 1s - loss: 60.1032     \n",
      "Epoch 21/1000\n",
      "301/301 [==============================] - 1s - loss: 73.4829     \n",
      "Epoch 22/1000\n",
      "301/301 [==============================] - 1s - loss: 62.0172     \n",
      "Epoch 23/1000\n",
      "\n",
      "Epoch 22/1000\n",
      "301/301 [==============================] - 1s - loss: 64.7547     \n",
      "Epoch 23/1000\n",
      "301/301 [==============================] - 1s - loss: 57.6678     \n",
      "Epoch 24/1000\n",
      "301/301 [==============================] - 1s - loss: 58.9803     \n",
      "Epoch 24/1000\n",
      "301/301 [==============================] - 1s - loss: 75.8580     \n",
      "Epoch 25/1000\n",
      "301/301 [==============================] - 1s - loss: 76.7619     \n",
      "288/301 [===========================>..] - ETA: 0s - loss: 117.5780Epoch 25/1000\n",
      "Epoch 26/1000\n",
      "301/301 [==============================] - 1s - loss: 121.6623     \n",
      "301/301 [==============================] - 1s - loss: 116.2818     \n",
      "Epoch 26/1000\n",
      "301/301 [==============================] - 1s - loss: 115.3741     \n",
      "Epoch 27/1000\n",
      "301/301 [==============================] - 1s - loss: 106.0664     \n",
      "192/301 [==================>...........] - ETA: 0s - loss: 124.9023Epoch 27/1000\n",
      "112/301 [==========>...................] - ETA: 0s - loss: 75.5165\n",
      "Epoch 28/1000\n",
      "301/301 [==============================] - 1s - loss: 101.2878     \n",
      "208/301 [===================>..........] - ETA: 0s - loss: 90.0380Epoch 28/1000\n",
      "301/301 [==============================] - 1s - loss: 86.2598     \n",
      "Epoch 29/1000\n",
      "144/301 [=============>................] - ETA: 0s - loss: 115.6757\n",
      "Epoch 29/1000\n",
      "301/301 [==============================] - 1s - loss: 119.1725     \n",
      "Epoch 30/1000\n",
      "208/301 [===================>..........] - ETA: 0s - loss: 88.3317\n",
      "Epoch 30/1000\n",
      "301/301 [==============================] - 1s - loss: 98.6312     \n",
      "Epoch 31/1000\n",
      "301/301 [==============================] - 1s - loss: 81.0038     \n",
      "Epoch 31/1000\n",
      "301/301 [==============================] - 1s - loss: 69.7212     \n",
      "Epoch 32/1000\n",
      "301/301 [==============================] - 1s - loss: 73.9912     \n",
      "Epoch 32/1000\n",
      "301/301 [==============================] - 1s - loss: 51.5563     \n",
      "Epoch 33/1000\n",
      "301/301 [==============================] - 1s - loss: 56.3746     \n",
      "Epoch 33/1000\n",
      "301/301 [==============================] - 1s - loss: 59.1510     \n",
      "Epoch 34/1000\n",
      "208/301 [===================>..........] - ETA: 0s - loss: 63.5959\n",
      "Epoch 34/1000\n",
      "301/301 [==============================] - 1s - loss: 59.1801     \n",
      "Epoch 35/1000\n",
      "301/301 [==============================] - 1s - loss: 56.6328     \n",
      "Epoch 35/1000\n",
      "301/301 [==============================] - 1s - loss: 53.4763     \n",
      "Epoch 36/1000\n",
      "301/301 [==============================] - 1s - loss: 61.1709     \n",
      "\n",
      "Epoch 36/1000\n",
      "Epoch 37/1000\n",
      "301/301 [==============================] - 1s - loss: 64.7819     \n",
      "Epoch 37/1000\n",
      "301/301 [==============================] - 1s - loss: 52.9135     \n",
      "Epoch 38/1000\n",
      "301/301 [==============================] - 1s - loss: 55.0739     \n",
      "Epoch 38/1000\n",
      "301/301 [==============================] - 1s - loss: 61.3260     \n",
      "Epoch 39/1000\n",
      "301/301 [==============================] - 1s - loss: 70.5129     \n",
      "Epoch 39/1000\n",
      "301/301 [==============================] - 1s - loss: 68.0009     \n",
      "Epoch 40/1000\n",
      "160/301 [==============>...............] - ETA: 0s - loss: 91.1085\n",
      "Epoch 40/1000\n",
      "301/301 [==============================] - 1s - loss: 79.2058     \n",
      "Epoch 41/1000\n",
      "301/301 [==============================] - 1s - loss: 75.2574     \n",
      "160/301 [==============>...............] - ETA: 0s - loss: 44.4186Epoch 41/1000\n",
      "301/301 [==============================] - 1s - loss: 47.9036     \n",
      "176/301 [================>.............] - ETA: 0s - loss: 43.3865Epoch 42/1000\n",
      "301/301 [==============================] - 1s - loss: 49.9016     \n",
      "160/301 [==============>...............] - ETA: 0s - loss: 42.7267Epoch 42/1000\n",
      "301/301 [==============================] - 1s - loss: 55.2405     \n",
      "Epoch 43/1000\n",
      "301/301 [==============================] - 1s - loss: 64.7375     \n",
      "192/301 [==================>...........] - ETA: 0s - loss: 45.9356Epoch 43/1000\n",
      "301/301 [==============================] - 1s - loss: 48.8916     \n",
      "Epoch 44/1000\n",
      "256/301 [========================>.....] - ETA: 0s - loss: 43.3724\n",
      "Epoch 44/1000\n",
      "301/301 [==============================] - 1s - loss: 46.3667     \n",
      "Epoch 45/1000\n",
      "301/301 [==============================] - 1s - loss: 45.8465     \n",
      "Epoch 45/1000\n",
      " 32/301 [==>...........................] - ETA: 1s - loss: 59.0257\n",
      "Epoch 46/1000\n",
      "301/301 [==============================] - 1s - loss: 42.7708     \n",
      "Epoch 46/1000\n",
      "301/301 [==============================] - 1s - loss: 51.1391     \n",
      "Epoch 47/1000\n",
      "301/301 [==============================] - 1s - loss: 62.3294     \n"
     ]
    },
    {
     "name": "stdout",
     "output_type": "stream",
     "text": [
      "256/301 [========================>.....] - ETA: 0s - loss: 52.5897Epoch 47/1000\n",
      "301/301 [==============================] - 1s - loss: 56.1869     \n",
      "Epoch 48/1000\n",
      "301/301 [==============================] - 1s - loss: 62.7001     \n",
      "288/301 [===========================>..] - ETA: 0s - loss: 60.1415Epoch 48/1000\n",
      " 16/301 [>.............................] - ETA: 0s - loss: 65.8358\n",
      "Epoch 49/1000\n",
      "301/301 [==============================] - 1s - loss: 55.4688     \n",
      "Epoch 50/1000\n",
      "301/301 [==============================] - 1s - loss: 61.7676     \n",
      "Epoch 49/1000\n",
      "301/301 [==============================] - 1s - loss: 55.2962     \n",
      "256/301 [========================>.....] - ETA: 0s - loss: 43.4857Epoch 51/1000\n",
      "301/301 [==============================] - 1s - loss: 46.8457     \n",
      "Epoch 50/1000\n",
      "301/301 [==============================] - 1s - loss: 55.0571     \n",
      "Epoch 52/1000\n",
      "301/301 [==============================] - 1s - loss: 51.8851     \n",
      "Epoch 51/1000\n",
      "301/301 [==============================] - 1s - loss: 65.7720     \n",
      "Epoch 53/1000\n",
      "301/301 [==============================] - 1s - loss: 49.1899     \n",
      "Epoch 52/1000\n",
      "301/301 [==============================] - 1s - loss: 54.5999     \n",
      "Epoch 54/1000\n",
      " 64/301 [=====>........................] - ETA: 0s - loss: 59.4129\n",
      "Epoch 53/1000\n",
      "240/301 [======================>.......] - ETA: 0s - loss: 55.6942\n",
      "Epoch 55/1000\n",
      "301/301 [==============================] - 1s - loss: 56.1929     \n",
      "Epoch 54/1000\n",
      "301/301 [==============================] - 1s - loss: 46.6292     \n",
      "Epoch 56/1000\n",
      "301/301 [==============================] - 1s - loss: 58.0066     \n",
      "Epoch 55/1000\n",
      "301/301 [==============================] - 1s - loss: 43.3512     \n",
      "144/301 [=============>................] - ETA: 0s - loss: 66.9686Epoch 57/1000\n",
      "301/301 [==============================] - 1s - loss: 57.2224     \n",
      "Epoch 56/1000\n",
      "301/301 [==============================] - 1s - loss: 41.6747     \n",
      "Epoch 58/1000\n",
      "301/301 [==============================] - 1s - loss: 53.7907     \n",
      "Epoch 57/1000\n",
      "112/301 [==========>...................] - ETA: 1s - loss: 46.9453"
     ]
    },
    {
     "ename": "KeyboardInterrupt",
     "evalue": "",
     "output_type": "error",
     "traceback": [
      "\u001b[0;31m---------------------------------------------------------------------------\u001b[0m",
      "\u001b[0;31mKeyboardInterrupt\u001b[0m                         Traceback (most recent call last)",
      "\u001b[0;32m<ipython-input-2-880b5084b185>\u001b[0m in \u001b[0;36m<module>\u001b[0;34m()\u001b[0m\n\u001b[1;32m     13\u001b[0m \u001b[0mparam_grid\u001b[0m \u001b[0;34m=\u001b[0m \u001b[0;34m{\u001b[0m\u001b[0;34m'batch_size'\u001b[0m \u001b[0;34m:\u001b[0m \u001b[0;34m[\u001b[0m\u001b[0;36m16\u001b[0m\u001b[0;34m,\u001b[0m \u001b[0;36m32\u001b[0m\u001b[0;34m]\u001b[0m\u001b[0;34m}\u001b[0m\u001b[0;34m\u001b[0m\u001b[0m\n\u001b[1;32m     14\u001b[0m \u001b[0msearcher\u001b[0m \u001b[0;34m=\u001b[0m \u001b[0mGridSearchCV\u001b[0m\u001b[0;34m(\u001b[0m\u001b[0mestimator\u001b[0m\u001b[0;34m=\u001b[0m\u001b[0mmodel\u001b[0m\u001b[0;34m,\u001b[0m \u001b[0mparam_grid\u001b[0m\u001b[0;34m=\u001b[0m\u001b[0mparam_grid\u001b[0m\u001b[0;34m,\u001b[0m \u001b[0mcv\u001b[0m\u001b[0;34m=\u001b[0m\u001b[0mnb_fold\u001b[0m\u001b[0;34m,\u001b[0m \u001b[0mn_jobs\u001b[0m\u001b[0;34m=\u001b[0m\u001b[0;34m-\u001b[0m\u001b[0;36m1\u001b[0m\u001b[0;34m)\u001b[0m\u001b[0;34m\u001b[0m\u001b[0m\n\u001b[0;32m---> 15\u001b[0;31m \u001b[0msearcher\u001b[0m\u001b[0;34m.\u001b[0m\u001b[0mfit\u001b[0m\u001b[0;34m(\u001b[0m\u001b[0mX_train\u001b[0m\u001b[0;34m,\u001b[0m \u001b[0my_train\u001b[0m\u001b[0;34m)\u001b[0m\u001b[0;34m\u001b[0m\u001b[0m\n\u001b[0m\u001b[1;32m     16\u001b[0m \u001b[0;32mprint\u001b[0m \u001b[0msearcher\u001b[0m\u001b[0;34m.\u001b[0m\u001b[0mbest_score_\u001b[0m\u001b[0;34m\u001b[0m\u001b[0m\n\u001b[1;32m     17\u001b[0m \u001b[0;32mprint\u001b[0m \u001b[0msearcher\u001b[0m\u001b[0;34m.\u001b[0m\u001b[0mbest_params_\u001b[0m\u001b[0;34m\u001b[0m\u001b[0m\n",
      "\u001b[0;32m/usr/local/lib/python2.7/dist-packages/sklearn/model_selection/_search.pyc\u001b[0m in \u001b[0;36mfit\u001b[0;34m(self, X, y, groups, **fit_params)\u001b[0m\n\u001b[1;32m    636\u001b[0m                                   error_score=self.error_score)\n\u001b[1;32m    637\u001b[0m           for parameters, (train, test) in product(candidate_params,\n\u001b[0;32m--> 638\u001b[0;31m                                                    cv.split(X, y, groups)))\n\u001b[0m\u001b[1;32m    639\u001b[0m \u001b[0;34m\u001b[0m\u001b[0m\n\u001b[1;32m    640\u001b[0m         \u001b[0;31m# if one choose to see train score, \"out\" will contain train score info\u001b[0m\u001b[0;34m\u001b[0m\u001b[0;34m\u001b[0m\u001b[0m\n",
      "\u001b[0;32m/usr/local/lib/python2.7/dist-packages/sklearn/externals/joblib/parallel.pyc\u001b[0m in \u001b[0;36m__call__\u001b[0;34m(self, iterable)\u001b[0m\n\u001b[1;32m    787\u001b[0m                 \u001b[0;31m# consumption.\u001b[0m\u001b[0;34m\u001b[0m\u001b[0;34m\u001b[0m\u001b[0m\n\u001b[1;32m    788\u001b[0m                 \u001b[0mself\u001b[0m\u001b[0;34m.\u001b[0m\u001b[0m_iterating\u001b[0m \u001b[0;34m=\u001b[0m \u001b[0mFalse\u001b[0m\u001b[0;34m\u001b[0m\u001b[0m\n\u001b[0;32m--> 789\u001b[0;31m             \u001b[0mself\u001b[0m\u001b[0;34m.\u001b[0m\u001b[0mretrieve\u001b[0m\u001b[0;34m(\u001b[0m\u001b[0;34m)\u001b[0m\u001b[0;34m\u001b[0m\u001b[0m\n\u001b[0m\u001b[1;32m    790\u001b[0m             \u001b[0;31m# Make sure that we get a last message telling us we are done\u001b[0m\u001b[0;34m\u001b[0m\u001b[0;34m\u001b[0m\u001b[0m\n\u001b[1;32m    791\u001b[0m             \u001b[0melapsed_time\u001b[0m \u001b[0;34m=\u001b[0m \u001b[0mtime\u001b[0m\u001b[0;34m.\u001b[0m\u001b[0mtime\u001b[0m\u001b[0;34m(\u001b[0m\u001b[0;34m)\u001b[0m \u001b[0;34m-\u001b[0m \u001b[0mself\u001b[0m\u001b[0;34m.\u001b[0m\u001b[0m_start_time\u001b[0m\u001b[0;34m\u001b[0m\u001b[0m\n",
      "\u001b[0;32m/usr/local/lib/python2.7/dist-packages/sklearn/externals/joblib/parallel.pyc\u001b[0m in \u001b[0;36mretrieve\u001b[0;34m(self)\u001b[0m\n\u001b[1;32m    697\u001b[0m             \u001b[0;32mtry\u001b[0m\u001b[0;34m:\u001b[0m\u001b[0;34m\u001b[0m\u001b[0m\n\u001b[1;32m    698\u001b[0m                 \u001b[0;32mif\u001b[0m \u001b[0mgetattr\u001b[0m\u001b[0;34m(\u001b[0m\u001b[0mself\u001b[0m\u001b[0;34m.\u001b[0m\u001b[0m_backend\u001b[0m\u001b[0;34m,\u001b[0m \u001b[0;34m'supports_timeout'\u001b[0m\u001b[0;34m,\u001b[0m \u001b[0mFalse\u001b[0m\u001b[0;34m)\u001b[0m\u001b[0;34m:\u001b[0m\u001b[0;34m\u001b[0m\u001b[0m\n\u001b[0;32m--> 699\u001b[0;31m                     \u001b[0mself\u001b[0m\u001b[0;34m.\u001b[0m\u001b[0m_output\u001b[0m\u001b[0;34m.\u001b[0m\u001b[0mextend\u001b[0m\u001b[0;34m(\u001b[0m\u001b[0mjob\u001b[0m\u001b[0;34m.\u001b[0m\u001b[0mget\u001b[0m\u001b[0;34m(\u001b[0m\u001b[0mtimeout\u001b[0m\u001b[0;34m=\u001b[0m\u001b[0mself\u001b[0m\u001b[0;34m.\u001b[0m\u001b[0mtimeout\u001b[0m\u001b[0;34m)\u001b[0m\u001b[0;34m)\u001b[0m\u001b[0;34m\u001b[0m\u001b[0m\n\u001b[0m\u001b[1;32m    700\u001b[0m                 \u001b[0;32melse\u001b[0m\u001b[0;34m:\u001b[0m\u001b[0;34m\u001b[0m\u001b[0m\n\u001b[1;32m    701\u001b[0m                     \u001b[0mself\u001b[0m\u001b[0;34m.\u001b[0m\u001b[0m_output\u001b[0m\u001b[0;34m.\u001b[0m\u001b[0mextend\u001b[0m\u001b[0;34m(\u001b[0m\u001b[0mjob\u001b[0m\u001b[0;34m.\u001b[0m\u001b[0mget\u001b[0m\u001b[0;34m(\u001b[0m\u001b[0;34m)\u001b[0m\u001b[0;34m)\u001b[0m\u001b[0;34m\u001b[0m\u001b[0m\n",
      "\u001b[0;32m/usr/lib/python2.7/multiprocessing/pool.pyc\u001b[0m in \u001b[0;36mget\u001b[0;34m(self, timeout)\u001b[0m\n\u001b[1;32m    559\u001b[0m \u001b[0;34m\u001b[0m\u001b[0m\n\u001b[1;32m    560\u001b[0m     \u001b[0;32mdef\u001b[0m \u001b[0mget\u001b[0m\u001b[0;34m(\u001b[0m\u001b[0mself\u001b[0m\u001b[0;34m,\u001b[0m \u001b[0mtimeout\u001b[0m\u001b[0;34m=\u001b[0m\u001b[0mNone\u001b[0m\u001b[0;34m)\u001b[0m\u001b[0;34m:\u001b[0m\u001b[0;34m\u001b[0m\u001b[0m\n\u001b[0;32m--> 561\u001b[0;31m         \u001b[0mself\u001b[0m\u001b[0;34m.\u001b[0m\u001b[0mwait\u001b[0m\u001b[0;34m(\u001b[0m\u001b[0mtimeout\u001b[0m\u001b[0;34m)\u001b[0m\u001b[0;34m\u001b[0m\u001b[0m\n\u001b[0m\u001b[1;32m    562\u001b[0m         \u001b[0;32mif\u001b[0m \u001b[0;32mnot\u001b[0m \u001b[0mself\u001b[0m\u001b[0;34m.\u001b[0m\u001b[0m_ready\u001b[0m\u001b[0;34m:\u001b[0m\u001b[0;34m\u001b[0m\u001b[0m\n\u001b[1;32m    563\u001b[0m             \u001b[0;32mraise\u001b[0m \u001b[0mTimeoutError\u001b[0m\u001b[0;34m\u001b[0m\u001b[0m\n",
      "\u001b[0;32m/usr/lib/python2.7/multiprocessing/pool.pyc\u001b[0m in \u001b[0;36mwait\u001b[0;34m(self, timeout)\u001b[0m\n\u001b[1;32m    554\u001b[0m         \u001b[0;32mtry\u001b[0m\u001b[0;34m:\u001b[0m\u001b[0;34m\u001b[0m\u001b[0m\n\u001b[1;32m    555\u001b[0m             \u001b[0;32mif\u001b[0m \u001b[0;32mnot\u001b[0m \u001b[0mself\u001b[0m\u001b[0;34m.\u001b[0m\u001b[0m_ready\u001b[0m\u001b[0;34m:\u001b[0m\u001b[0;34m\u001b[0m\u001b[0m\n\u001b[0;32m--> 556\u001b[0;31m                 \u001b[0mself\u001b[0m\u001b[0;34m.\u001b[0m\u001b[0m_cond\u001b[0m\u001b[0;34m.\u001b[0m\u001b[0mwait\u001b[0m\u001b[0;34m(\u001b[0m\u001b[0mtimeout\u001b[0m\u001b[0;34m)\u001b[0m\u001b[0;34m\u001b[0m\u001b[0m\n\u001b[0m\u001b[1;32m    557\u001b[0m         \u001b[0;32mfinally\u001b[0m\u001b[0;34m:\u001b[0m\u001b[0;34m\u001b[0m\u001b[0m\n\u001b[1;32m    558\u001b[0m             \u001b[0mself\u001b[0m\u001b[0;34m.\u001b[0m\u001b[0m_cond\u001b[0m\u001b[0;34m.\u001b[0m\u001b[0mrelease\u001b[0m\u001b[0;34m(\u001b[0m\u001b[0;34m)\u001b[0m\u001b[0;34m\u001b[0m\u001b[0m\n",
      "\u001b[0;32m/usr/lib/python2.7/threading.pyc\u001b[0m in \u001b[0;36mwait\u001b[0;34m(self, timeout)\u001b[0m\n\u001b[1;32m    338\u001b[0m         \u001b[0;32mtry\u001b[0m\u001b[0;34m:\u001b[0m    \u001b[0;31m# restore state no matter what (e.g., KeyboardInterrupt)\u001b[0m\u001b[0;34m\u001b[0m\u001b[0m\n\u001b[1;32m    339\u001b[0m             \u001b[0;32mif\u001b[0m \u001b[0mtimeout\u001b[0m \u001b[0;32mis\u001b[0m \u001b[0mNone\u001b[0m\u001b[0;34m:\u001b[0m\u001b[0;34m\u001b[0m\u001b[0m\n\u001b[0;32m--> 340\u001b[0;31m                 \u001b[0mwaiter\u001b[0m\u001b[0;34m.\u001b[0m\u001b[0macquire\u001b[0m\u001b[0;34m(\u001b[0m\u001b[0;34m)\u001b[0m\u001b[0;34m\u001b[0m\u001b[0m\n\u001b[0m\u001b[1;32m    341\u001b[0m                 \u001b[0;32mif\u001b[0m \u001b[0m__debug__\u001b[0m\u001b[0;34m:\u001b[0m\u001b[0;34m\u001b[0m\u001b[0m\n\u001b[1;32m    342\u001b[0m                     \u001b[0mself\u001b[0m\u001b[0;34m.\u001b[0m\u001b[0m_note\u001b[0m\u001b[0;34m(\u001b[0m\u001b[0;34m\"%s.wait(): got it\"\u001b[0m\u001b[0;34m,\u001b[0m \u001b[0mself\u001b[0m\u001b[0;34m)\u001b[0m\u001b[0;34m\u001b[0m\u001b[0m\n",
      "\u001b[0;31mKeyboardInterrupt\u001b[0m: "
     ]
    }
   ],
   "source": [
    "#NN\n",
    "begin_time = time.time()\n",
    "def create_model():\n",
    "    model = Sequential()    \n",
    "    model.add(Dense(512, activation='relu', input_dim = nb_feature)) \n",
    "    model.add(Dense(512, activation='relu'))    \n",
    "    model.add(Dense(512, activation='relu'))     \n",
    "    model.add(Dense(512, activation='relu'))   \n",
    "    model.add(Dense(1))     \n",
    "    model.compile(loss='mean_squared_error', optimizer='adam')\n",
    "    return model\n",
    "model = KerasRegressor(build_fn=create_model, epochs=1000)\n",
    "param_grid = {'batch_size' : [16, 32]}\n",
    "searcher = GridSearchCV(estimator=model, param_grid=param_grid, cv=nb_fold, n_jobs=-1)\n",
    "searcher.fit(X_train, y_train)\n",
    "print searcher.best_score_\n",
    "print searcher.best_params_\n",
    "print time.time() - begin_time"
   ]
  },
  {
   "cell_type": "code",
   "execution_count": null,
   "metadata": {},
   "outputs": [],
   "source": []
  },
  {
   "cell_type": "code",
   "execution_count": null,
   "metadata": {},
   "outputs": [],
   "source": []
  },
  {
   "cell_type": "code",
   "execution_count": null,
   "metadata": {},
   "outputs": [],
   "source": []
  }
 ],
 "metadata": {
  "kernelspec": {
   "display_name": "Python 2",
   "language": "python",
   "name": "python2"
  },
  "language_info": {
   "codemirror_mode": {
    "name": "ipython",
    "version": 2
   },
   "file_extension": ".py",
   "mimetype": "text/x-python",
   "name": "python",
   "nbconvert_exporter": "python",
   "pygments_lexer": "ipython2",
   "version": "2.7.12"
  }
 },
 "nbformat": 4,
 "nbformat_minor": 2
}
