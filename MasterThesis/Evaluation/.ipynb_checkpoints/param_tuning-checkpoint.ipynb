{
 "cells": [
  {
   "cell_type": "code",
   "execution_count": 1,
   "metadata": {},
   "outputs": [
    {
     "name": "stderr",
     "output_type": "stream",
     "text": [
      "Using TensorFlow backend.\n"
     ]
    },
    {
     "name": "stdout",
     "output_type": "stream",
     "text": [
      "(335, 5) (335,)\n",
      "[[65.04 3.5 69.175 11.247 19]\n",
      " [65.04 21.73 69.175 11.247 19]\n",
      " [15.425229999999999 5.01556 24.377 11.978 19]] [-106.5 -114.36666670000001 -110.5]\n",
      "(144, 5) (144,)\n",
      "[[80.46562 8.51125 82.947 18.112000000000002 19]\n",
      " [33.24 11.85 24.377 11.978 19]\n",
      " [37.69 20.97 51.446000000000005 17.965999999999998 19]] [-88.0 -97.3 -123.3]\n"
     ]
    }
   ],
   "source": [
    "import numpy as np\n",
    "import pandas as pd\n",
    "import psutil as ps\n",
    "import os\n",
    "from keras.models import Sequential, load_model\n",
    "from keras.layers import Dense, Activation\n",
    "from keras.optimizers import Adam\n",
    "from keras.wrappers.scikit_learn import KerasRegressor\n",
    "from sklearn import linear_model\n",
    "from sklearn.metrics import mean_squared_error, r2_score\n",
    "from sklearn.gaussian_process import GaussianProcessRegressor\n",
    "from sklearn.gaussian_process.kernels import RBF, WhiteKernel\n",
    "from sklearn.tree import DecisionTreeRegressor\n",
    "from sklearn.ensemble import RandomForestRegressor, GradientBoostingRegressor\n",
    "from sklearn.neighbors import KNeighborsRegressor\n",
    "from sklearn.model_selection import train_test_split, GridSearchCV\n",
    "from Utility import draw_heatmap, draw_bitmap, draw_importance_forest, cross_val_RF, cross_val_Lin, cross_val_NN\n",
    "import time\n",
    "\n",
    "nb_fold = 10\n",
    "nb_feature = 5\n",
    "df = pd.read_csv('./data/train.csv').values\n",
    "train_df, test_df = train_test_split(df, test_size=0.3)\n",
    "X_train = train_df[:, 2:2+nb_feature]\n",
    "y_train = train_df[:, -1]\n",
    "X_test = test_df[:, 2:2+nb_feature]\n",
    "y_test = test_df[:, -1]\n",
    "print X_train.shape, y_train.shape\n",
    "print X_train[:3], y_train[:3]\n",
    "print X_test.shape, y_test.shape\n",
    "print X_test[:3], y_test[:3]"
   ]
  },
  {
   "cell_type": "code",
   "execution_count": 15,
   "metadata": {},
   "outputs": [
    {
     "name": "stdout",
     "output_type": "stream",
     "text": [
      "--- Model--- 5 features\n",
      "[MSE]: 72.643\n",
      "[RMSE]: 8.523\n",
      "[R2]: 0.633\n"
     ]
    }
   ],
   "source": [
    "y_pred = searcher.predict(X_test)\n",
    "#print y_pred[:10]\n",
    "#print y_test[:10]\n",
    "print \"--- Model--- %s features\" %(nb_feature)\n",
    "print \"[MSE]: %.3f\" % mean_squared_error(y_test, y_pred)\n",
    "print \"[RMSE]: %.3f\" % (mean_squared_error(y_test, y_pred))**(0.5)\n",
    "print '[R2]: %.3f' % r2_score(y_test, y_pred)"
   ]
  },
  {
   "cell_type": "code",
   "execution_count": 14,
   "metadata": {},
   "outputs": [
    {
     "name": "stdout",
     "output_type": "stream",
     "text": [
      "0.766567851638\n",
      "{'max_depth': 30}\n"
     ]
    }
   ],
   "source": [
    "#Decision tree\n",
    "model = DecisionTreeRegressor()\n",
    "param_grid = {'max_depth': [1, 10, 20, 30, 40, 50]}\n",
    "searcher = GridSearchCV(estimator=model, param_grid=param_grid, cv=nb_fold, n_jobs=-1)    \n",
    "searcher.fit(X_train, y_train)  \n",
    "print searcher.best_score_\n",
    "print searcher.best_params_"
   ]
  },
  {
   "cell_type": "code",
   "execution_count": 5,
   "metadata": {},
   "outputs": [
    {
     "name": "stdout",
     "output_type": "stream",
     "text": [
      "0.838102196438\n",
      "{'max_features': 'auto', 'n_estimators': 100, 'max_depth': 30}\n"
     ]
    }
   ],
   "source": [
    "#Random forest\n",
    "model = RandomForestRegressor()\n",
    "param_grid = {\n",
    "    'n_estimators': [1, 50, 100],\n",
    "    'max_depth': [10, 30, 50],\n",
    "    'max_features': ['sqrt', 'auto'] \n",
    "}\n",
    "searcher = GridSearchCV(estimator=model, param_grid=param_grid, cv=nb_fold, n_jobs=-1)    \n",
    "searcher.fit(X_train, y_train)  \n",
    "print searcher.best_score_\n",
    "print searcher.best_params_"
   ]
  },
  {
   "cell_type": "code",
   "execution_count": 4,
   "metadata": {
    "scrolled": true
   },
   "outputs": [
    {
     "name": "stdout",
     "output_type": "stream",
     "text": [
      "0.788499034627\n",
      "{'n_estimators': 100, 'learning_rate': 0.1, 'max_depth': 3}\n"
     ]
    }
   ],
   "source": [
    "#Gradient Boosting\n",
    "model = GradientBoostingRegressor()\n",
    "param_grid = {\n",
    "    'n_estimators': [1, 50, 100],\n",
    "    'max_depth': [1, 2, 3],\n",
    "    'learning_rate' : [0.1, 0.01] \n",
    "}\n",
    "searcher = GridSearchCV(estimator=model, param_grid=param_grid, cv=nb_fold, n_jobs=-1)    \n",
    "searcher.fit(X_train, y_train)  \n",
    "print searcher.best_score_\n",
    "print searcher.best_params_"
   ]
  },
  {
   "cell_type": "code",
   "execution_count": 3,
   "metadata": {},
   "outputs": [
    {
     "name": "stdout",
     "output_type": "stream",
     "text": [
      "0.834245852078\n",
      "{'n_neighbors': 3}\n"
     ]
    }
   ],
   "source": [
    "# K-NN\n",
    "model = KNeighborsRegressor()\n",
    "param_grid = {'n_neighbors': [1, 3, 5, 7, 9]}\n",
    "searcher = GridSearchCV(estimator=model, param_grid=param_grid, cv=nb_fold, n_jobs=-1)    \n",
    "searcher.fit(X_train, y_train)  \n",
    "print searcher.best_score_\n",
    "print searcher.best_params_"
   ]
  },
  {
   "cell_type": "code",
   "execution_count": 18,
   "metadata": {},
   "outputs": [
    {
     "data": {
      "text/plain": [
       "LinearRegression(copy_X=True, fit_intercept=True, n_jobs=1, normalize=False)"
      ]
     },
     "execution_count": 18,
     "metadata": {},
     "output_type": "execute_result"
    }
   ],
   "source": [
    "#Linear regression\n",
    "model = linear_model.LinearRegression()\n",
    "model.fit(X_train, y_train)"
   ]
  },
  {
   "cell_type": "code",
   "execution_count": null,
   "metadata": {},
   "outputs": [
    {
     "name": "stdout",
     "output_type": "stream",
     "text": [
      "Epoch 1/1000\n",
      "Epoch 1/1000\n",
      "301/301 [==============================] - 1s - loss: 2675.4202     \n",
      "Epoch 2/1000\n",
      "301/301 [==============================] - 1s - loss: 2569.4423     \n",
      " 32/301 [==>...........................] - ETA: 1s - loss: 807.7830Epoch 2/1000\n",
      "301/301 [==============================] - 1s - loss: 461.9530     \n",
      "288/301 [===========================>..] - ETA: 0s - loss: 430.8477Epoch 3/1000\n",
      "301/301 [==============================] - 1s - loss: 438.2850     \n",
      "Epoch 3/1000\n",
      "301/301 [==============================] - 1s - loss: 250.8685     \n",
      "Epoch 4/1000\n",
      " 16/301 [>.............................] - ETA: 0s - loss: 220.3430\n",
      "Epoch 4/1000\n",
      "301/301 [==============================] - 1s - loss: 209.9941     \n",
      "Epoch 5/1000\n",
      "301/301 [==============================] - 1s - loss: 208.4007     \n",
      "Epoch 5/1000\n",
      "301/301 [==============================] - 1s - loss: 186.8287     \n",
      "Epoch 6/1000\n",
      "301/301 [==============================] - 1s - loss: 171.5188     \n",
      "Epoch 6/1000\n",
      "301/301 [==============================] - 1s - loss: 202.2161     \n",
      "144/301 [=============>................] - ETA: 0s - loss: 163.8700Epoch 7/1000\n",
      "192/301 [==================>...........] - ETA: 0s - loss: 226.4528\n",
      "Epoch 7/1000\n",
      " 96/301 [========>.....................] - ETA: 1s - loss: 182.3554\n",
      "Epoch 8/1000\n",
      "301/301 [==============================] - 1s - loss: 169.8483     \n",
      "Epoch 8/1000\n",
      "301/301 [==============================] - 1s - loss: 160.7138     \n",
      "Epoch 9/1000\n",
      "301/301 [==============================] - 1s - loss: 182.1037     \n",
      "Epoch 9/1000\n",
      "301/301 [==============================] - 1s - loss: 115.0312     \n",
      "Epoch 10/1000\n",
      "301/301 [==============================] - 1s - loss: 135.6471     \n",
      "Epoch 10/1000\n",
      "301/301 [==============================] - 1s - loss: 121.0537     \n",
      "Epoch 11/1000\n",
      "301/301 [==============================] - 1s - loss: 115.9947     \n",
      "Epoch 11/1000\n",
      "192/301 [==================>...........] - ETA: 0s - loss: 100.5450\n",
      "Epoch 12/1000\n",
      "301/301 [==============================] - 1s - loss: 100.4005    \n",
      "Epoch 12/1000\n",
      "301/301 [==============================] - 1s - loss: 93.6366     \n",
      "Epoch 13/1000\n",
      "301/301 [==============================] - 1s - loss: 87.9085     \n",
      "Epoch 13/1000\n",
      "288/301 [===========================>..] - ETA: 0s - loss: 110.5253\n",
      "Epoch 14/1000\n",
      "301/301 [==============================] - 1s - loss: 111.7200     \n",
      "Epoch 14/1000\n",
      "301/301 [==============================] - 1s - loss: 121.8401     \n",
      "Epoch 15/1000\n",
      "301/301 [==============================] - 1s - loss: 145.5754     \n",
      "Epoch 15/1000\n",
      "288/301 [===========================>..] - ETA: 0s - loss: 129.5402\n",
      "Epoch 16/1000\n",
      "301/301 [==============================] - 1s - loss: 131.2784     \n",
      "Epoch 16/1000\n",
      "301/301 [==============================] - 1s - loss: 87.1192     \n",
      "Epoch 17/1000\n",
      "301/301 [==============================] - 1s - loss: 91.8133     \n",
      " 16/301 [>.............................] - ETA: 1s - loss: 45.7089Epoch 17/1000\n",
      "301/301 [==============================] - 1s - loss: 93.6311     \n",
      "Epoch 18/1000\n",
      "301/301 [==============================] - 1s - loss: 92.8703     \n",
      "Epoch 18/1000\n",
      "301/301 [==============================] - 1s - loss: 71.8298     \n",
      "Epoch 19/1000\n",
      " 96/301 [========>.....................] - ETA: 1s - loss: 78.1945\n",
      "Epoch 19/1000\n",
      "301/301 [==============================] - 1s - loss: 69.1406     \n",
      "Epoch 20/1000\n",
      "301/301 [==============================] - 1s - loss: 72.6792     \n",
      "Epoch 20/1000\n",
      "240/301 [======================>.......] - ETA: 0s - loss: 86.5028\n",
      "Epoch 21/1000\n",
      "301/301 [==============================] - 1s - loss: 91.6795     \n",
      "Epoch 21/1000\n",
      "301/301 [==============================] - 1s - loss: 93.7413     \n",
      "Epoch 22/1000\n",
      " 48/301 [===>..........................] - ETA: 1s - loss: 56.4573\n",
      "Epoch 22/1000\n",
      "301/301 [==============================] - 1s - loss: 78.2259     \n",
      "Epoch 23/1000\n",
      "301/301 [==============================] - 1s - loss: 78.9299     \n",
      "Epoch 23/1000\n",
      "288/301 [===========================>..] - ETA: 0s - loss: 70.4350\n",
      "Epoch 24/1000\n",
      "301/301 [==============================] - 1s - loss: 74.8434     \n",
      "Epoch 24/1000\n",
      "301/301 [==============================] - 1s - loss: 83.1293     \n",
      "Epoch 25/1000\n",
      "301/301 [==============================] - 1s - loss: 95.9176      \n",
      "Epoch 25/1000\n",
      "301/301 [==============================] - 1s - loss: 90.7893     \n",
      "Epoch 26/1000\n",
      "301/301 [==============================] - 1s - loss: 81.7338     \n",
      "Epoch 26/1000\n",
      "301/301 [==============================] - 1s - loss: 68.2179     \n",
      "Epoch 27/1000\n",
      "144/301 [=============>................] - ETA: 0s - loss: 68.5971\n",
      "Epoch 27/1000\n",
      "301/301 [==============================] - 1s - loss: 59.6809     \n",
      "Epoch 28/1000\n",
      "301/301 [==============================] - 1s - loss: 97.3017     \n",
      "Epoch 28/1000\n",
      "301/301 [==============================] - 1s - loss: 72.5651     \n",
      "Epoch 29/1000\n",
      "301/301 [==============================] - 1s - loss: 83.8442     \n",
      "240/301 [======================>.......] - ETA: 0s - loss: 61.5535Epoch 29/1000\n",
      "301/301 [==============================] - 1s - loss: 59.9056     \n",
      "Epoch 30/1000\n",
      "176/301 [================>.............] - ETA: 0s - loss: 77.4941\n",
      "Epoch 30/1000\n",
      "301/301 [==============================] - 1s - loss: 65.7690     \n",
      "Epoch 31/1000\n",
      "176/301 [================>.............] - ETA: 0s - loss: 52.0104\n",
      "Epoch 31/1000\n",
      "301/301 [==============================] - 1s - loss: 52.1366     \n",
      "112/301 [==========>...................] - ETA: 0s - loss: 59.7739Epoch 32/1000\n",
      "301/301 [==============================] - 1s - loss: 56.4956     \n",
      "Epoch 32/1000\n",
      "301/301 [==============================] - 1s - loss: 71.8017     \n",
      "Epoch 33/1000\n",
      "301/301 [==============================] - 1s - loss: 63.1552     \n",
      "Epoch 33/1000\n",
      "301/301 [==============================] - 1s - loss: 48.2931     \n",
      "Epoch 34/1000\n",
      "301/301 [==============================] - 1s - loss: 54.0001     \n",
      "Epoch 34/1000\n",
      "301/301 [==============================] - 1s - loss: 47.0955     \n",
      "Epoch 35/1000\n",
      "301/301 [==============================] - 1s - loss: 62.9292     \n",
      "Epoch 35/1000\n",
      "301/301 [==============================] - 1s - loss: 58.9399     \n",
      "Epoch 36/1000\n",
      "301/301 [==============================] - 1s - loss: 51.7314     \n",
      "Epoch 36/1000\n",
      "301/301 [==============================] - 1s - loss: 90.4297     \n",
      "Epoch 37/1000\n",
      "301/301 [==============================] - 1s - loss: 72.9996     \n",
      "144/301 [=============>................] - ETA: 0s - loss: 81.1258Epoch 37/1000\n",
      "301/301 [==============================] - 1s - loss: 70.7495     \n",
      "Epoch 38/1000\n",
      "301/301 [==============================] - 1s - loss: 54.7109     \n",
      "Epoch 38/1000\n",
      "301/301 [==============================] - 1s - loss: 55.5698     \n",
      "Epoch 39/1000\n",
      "301/301 [==============================] - 1s - loss: 54.0295     \n",
      "Epoch 39/1000\n",
      "301/301 [==============================] - 1s - loss: 79.0056     \n",
      "Epoch 40/1000\n",
      " 48/301 [===>..........................] - ETA: 1s - loss: 71.6369\n",
      "Epoch 40/1000\n",
      "301/301 [==============================] - 1s - loss: 66.2895     \n",
      "Epoch 41/1000\n",
      "301/301 [==============================] - 1s - loss: 92.8438     \n",
      "Epoch 41/1000\n",
      "301/301 [==============================] - 1s - loss: 48.6336     \n",
      "Epoch 42/1000\n",
      " 96/301 [========>.....................] - ETA: 0s - loss: 55.5779\n",
      "Epoch 42/1000\n",
      "301/301 [==============================] - 1s - loss: 57.9838     \n",
      "Epoch 43/1000\n",
      "301/301 [==============================] - 1s - loss: 62.5626     \n",
      "Epoch 43/1000\n",
      "301/301 [==============================] - 1s - loss: 64.1420     \n",
      "Epoch 44/1000\n",
      "301/301 [==============================] - 1s - loss: 68.6081     \n",
      "Epoch 44/1000\n",
      "301/301 [==============================] - 1s - loss: 64.1949     \n",
      "Epoch 45/1000\n",
      "128/301 [===========>..................] - ETA: 0s - loss: 45.5853\n",
      "Epoch 45/1000\n",
      "301/301 [==============================] - 1s - loss: 42.5986     \n",
      "176/301 [================>.............] - ETA: 0s - loss: 56.0337Epoch 46/1000\n",
      "128/301 [===========>..................] - ETA: 0s - loss: 49.4909\n",
      "Epoch 46/1000\n",
      "301/301 [==============================] - 1s - loss: 50.9739     \n",
      "Epoch 47/1000\n",
      "301/301 [==============================] - 1s - loss: 71.9928     \n",
      "Epoch 47/1000\n",
      "301/301 [==============================] - 1s - loss: 63.3169     \n",
      "Epoch 48/1000\n",
      "240/301 [======================>.......] - ETA: 0s - loss: 51.6400\n",
      "Epoch 48/1000\n"
     ]
    },
    {
     "name": "stdout",
     "output_type": "stream",
     "text": [
      " 48/301 [===>..........................] - ETA: 1s - loss: 47.6975\n",
      "Epoch 49/1000\n",
      "301/301 [==============================] - 1s - loss: 78.5421     \n",
      "\n",
      "Epoch 50/1000\n",
      "Epoch 49/1000\n",
      "301/301 [==============================] - 1s - loss: 49.6100     \n",
      "Epoch 50/1000\n",
      "301/301 [==============================] - 1s - loss: 61.6116     \n",
      "Epoch 51/1000\n",
      "272/301 [==========================>...] - ETA: 0s - loss: 67.0034\n",
      "Epoch 51/1000\n",
      "301/301 [==============================] - 1s - loss: 63.3935     \n",
      " 32/301 [==>...........................] - ETA: 1s - loss: 39.0373Epoch 52/1000\n",
      "301/301 [==============================] - 1s - loss: 70.9857     \n",
      "Epoch 52/1000\n",
      "301/301 [==============================] - 1s - loss: 47.1020     \n",
      " 16/301 [>.............................] - ETA: 0s - loss: 97.0753Epoch 53/1000\n",
      "301/301 [==============================] - 1s - loss: 58.6234     \n",
      "301/301 [==============================] - 1s - loss: 60.4937     Epoch 54/1000\n",
      "\n",
      "Epoch 53/1000\n",
      "301/301 [==============================] - 1s - loss: 71.2565     \n",
      "Epoch 55/1000\n",
      " 16/301 [>.............................] - ETA: 0s - loss: 51.1909\n",
      "Epoch 54/1000\n",
      "301/301 [==============================] - 1s - loss: 52.5969     \n",
      "Epoch 56/1000\n",
      "301/301 [==============================] - 1s - loss: 57.7468     \n",
      "Epoch 55/1000\n",
      "301/301 [==============================] - 1s - loss: 43.3244     \n",
      "Epoch 57/1000\n",
      "112/301 [==========>...................] - ETA: 0s - loss: 44.1697\n",
      "Epoch 56/1000\n",
      "160/301 [==============>...............] - ETA: 0s - loss: 51.2784\n",
      "Epoch 58/1000\n",
      "301/301 [==============================] - 1s - loss: 47.0143     \n",
      "Epoch 57/1000\n",
      "301/301 [==============================] - 1s - loss: 48.3693     \n",
      "Epoch 59/1000\n",
      " 96/301 [========>.....................] - ETA: 0s - loss: 56.2139\n",
      "Epoch 58/1000\n",
      "301/301 [==============================] - 1s - loss: 44.8300     \n",
      "Epoch 60/1000\n",
      "301/301 [==============================] - 1s - loss: 50.5115     \n",
      "Epoch 59/1000\n",
      "301/301 [==============================] - 1s - loss: 53.9868     \n",
      "Epoch 61/1000\n",
      "301/301 [==============================] - 1s - loss: 51.4432     \n",
      "Epoch 60/1000\n",
      "301/301 [==============================] - 1s - loss: 76.0458     \n",
      "Epoch 62/1000\n",
      "301/301 [==============================] - 1s - loss: 66.1081     \n",
      "Epoch 61/1000\n",
      "301/301 [==============================] - 1s - loss: 51.4896     \n",
      "Epoch 63/1000\n",
      "301/301 [==============================] - 1s - loss: 77.1398     \n",
      "Epoch 62/1000\n",
      " 48/301 [===>..........................] - ETA: 1s - loss: 52.8071\n",
      "Epoch 64/1000\n",
      " 80/301 [======>.......................] - ETA: 0s - loss: 78.8728"
     ]
    }
   ],
   "source": [
    "#NN\n",
    "begin_time = time.time()\n",
    "def create_model():\n",
    "    model = Sequential()    \n",
    "    model.add(Dense(512, activation='relu', input_dim = nb_feature)) \n",
    "    model.add(Dense(512, activation='relu'))    \n",
    "    model.add(Dense(512, activation='relu'))     \n",
    "    model.add(Dense(512, activation='relu'))   \n",
    "    model.add(Dense(1))     \n",
    "    model.compile(loss='mean_squared_error', optimizer='adam')\n",
    "    return model\n",
    "model = KerasRegressor(build_fn=create_model, epochs=1000)\n",
    "param_grid = {'batch_size' : [16, 32]}\n",
    "searcher = GridSearchCV(estimator=model, param_grid=param_grid, cv=nb_fold, n_jobs=-1)\n",
    "searcher.fit(X_train, y_train)\n",
    "print searcher.best_score_\n",
    "print searcher.best_params_\n",
    "print time.time() - begin_time"
   ]
  },
  {
   "cell_type": "code",
   "execution_count": null,
   "metadata": {},
   "outputs": [],
   "source": []
  },
  {
   "cell_type": "code",
   "execution_count": null,
   "metadata": {},
   "outputs": [],
   "source": []
  },
  {
   "cell_type": "code",
   "execution_count": null,
   "metadata": {},
   "outputs": [],
   "source": []
  }
 ],
 "metadata": {
  "kernelspec": {
   "display_name": "Python 2",
   "language": "python",
   "name": "python2"
  },
  "language_info": {
   "codemirror_mode": {
    "name": "ipython",
    "version": 2
   },
   "file_extension": ".py",
   "mimetype": "text/x-python",
   "name": "python",
   "nbconvert_exporter": "python",
   "pygments_lexer": "ipython2",
   "version": "2.7.12"
  }
 },
 "nbformat": 4,
 "nbformat_minor": 2
}
